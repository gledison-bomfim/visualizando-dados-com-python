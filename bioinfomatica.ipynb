{
  "nbformat": 4,
  "nbformat_minor": 0,
  "metadata": {
    "colab": {
      "name": "bioinfomatica",
      "provenance": [],
      "include_colab_link": true
    },
    "kernelspec": {
      "name": "python3",
      "display_name": "Python 3"
    },
    "language_info": {
      "name": "python"
    }
  },
  "cells": [
    {
      "cell_type": "markdown",
      "metadata": {
        "id": "view-in-github",
        "colab_type": "text"
      },
      "source": [
        "<a href=\"https://colab.research.google.com/github/gledison-bomfim/visualizando-dados-com-python/blob/main/bioinfomatica.ipynb\" target=\"_parent\"><img src=\"https://colab.research.google.com/assets/colab-badge.svg\" alt=\"Open In Colab\"/></a>"
      ]
    },
    {
      "cell_type": "markdown",
      "metadata": {
        "id": "iYPZL2kKU-CA"
      },
      "source": [
        "## Estudo de caso: Bioinformática - comparando genomas"
      ]
    },
    {
      "cell_type": "code",
      "metadata": {
        "id": "LOe_rPB8SUMj"
      },
      "source": [
        "/content/drive/MyDrive"
      ],
      "execution_count": null,
      "outputs": []
    },
    {
      "cell_type": "code",
      "metadata": {
        "colab": {
          "base_uri": "https://localhost:8080/"
        },
        "id": "b7ITjeLXUviL",
        "outputId": "ae2c90c2-cf20-42fa-f587-d7f0bc6739af"
      },
      "source": [
        "from google.colab import drive\n",
        "drive.mount('/content/drive')"
      ],
      "execution_count": 7,
      "outputs": [
        {
          "output_type": "stream",
          "text": [
            "Mounted at /content/drive\n"
          ],
          "name": "stdout"
        }
      ]
    },
    {
      "cell_type": "code",
      "metadata": {
        "colab": {
          "base_uri": "https://localhost:8080/"
        },
        "id": "utVD1ZdXVDWf",
        "outputId": "2d395277-05d2-4e25-ba6f-eb0af1685024"
      },
      "source": [
        "#entrada = open(\"16s_bacteria.fasta\").readlines()\n",
        "#saida = open(\"bacteria.html\", \"w\")\n",
        "\n",
        "cont = {}\n",
        "\n",
        "for i in ['A', 'T', 'C', 'G']:\n",
        "  for j in ['A', 'T', 'C', 'G']:\n",
        "    cont[i+j] = 0\n",
        "print(cont)\n",
        "\n"
      ],
      "execution_count": 9,
      "outputs": [
        {
          "output_type": "stream",
          "text": [
            "{'AA': 0, 'AT': 0, 'AC': 0, 'AG': 0, 'TA': 0, 'TT': 0, 'TC': 0, 'TG': 0, 'CA': 0, 'CT': 0, 'CC': 0, 'CG': 0, 'GA': 0, 'GT': 0, 'GC': 0, 'GG': 0}\n"
          ],
          "name": "stdout"
        }
      ]
    }
  ]
}