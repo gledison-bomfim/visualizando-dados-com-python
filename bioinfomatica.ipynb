{
  "nbformat": 4,
  "nbformat_minor": 0,
  "metadata": {
    "colab": {
      "name": "bioinfomatica",
      "provenance": [],
      "include_colab_link": true
    },
    "kernelspec": {
      "name": "python3",
      "display_name": "Python 3"
    },
    "language_info": {
      "name": "python"
    }
  },
  "cells": [
    {
      "cell_type": "markdown",
      "metadata": {
        "id": "view-in-github",
        "colab_type": "text"
      },
      "source": [
        "<a href=\"https://colab.research.google.com/github/gledison-bomfim/visualizando-dados-com-python/blob/main/bioinfomatica.ipynb\" target=\"_parent\"><img src=\"https://colab.research.google.com/assets/colab-badge.svg\" alt=\"Open In Colab\"/></a>"
      ]
    },
    {
      "cell_type": "markdown",
      "metadata": {
        "id": "iYPZL2kKU-CA"
      },
      "source": [
        "## Estudo de caso: Bioinformática - comparando genomas"
      ]
    },
    {
      "cell_type": "code",
      "metadata": {
        "colab": {
          "base_uri": "https://localhost:8080/"
        },
        "id": "b7ITjeLXUviL",
        "outputId": "e17586f8-9044-43a6-a4ae-bd8877b9b4e1"
      },
      "source": [
        "from google.colab import drive\n",
        "drive.mount('/content/drive')"
      ],
      "execution_count": 1,
      "outputs": [
        {
          "output_type": "stream",
          "text": [
            "Mounted at /content/drive\n"
          ],
          "name": "stdout"
        }
      ]
    },
    {
      "cell_type": "code",
      "metadata": {
        "id": "utVD1ZdXVDWf",
        "outputId": "110b52d9-c0b4-4175-c80b-4a62d54cf2d5",
        "colab": {
          "base_uri": "https://localhost:8080/"
        }
      },
      "source": [
        "entrada = open(\"/content/drive/MyDrive/bacteria.fasta\").read()\n",
        "saida = open(\"bacteria.html\",\"w\")\n",
        "\n",
        "cont = {}\n",
        "\n",
        "for i in ['A', 'T', 'C', 'G']:\n",
        "  for j in ['A', 'T', 'C', 'G']:\n",
        "    cont[i+j] = 0\n",
        "\n",
        "entrada = entrada.replace(\"\\n\",\"\")\n",
        "\n",
        "for k in range(len(entrada)-1):\n",
        "    cont[entrada[k]+entrada[k+1]] += 1\n",
        "\n",
        "# html\n",
        "\n",
        "print(cont)\n",
        "i = 1\n",
        "for k in cont:\n",
        "  transparencia = cont[k]/max(cont.values())\n",
        "  saida.write(\"<div style='width:100px; border:1px solid #111; height:100px; float:left; background-color:rgba(0, 0, 0, \"+str(transparencia)+\"')></div>\")\n",
        "\n",
        "  if i%4 == 0:\n",
        "    saida.write(\"<div style='clear:both'></div>\")\n",
        "  i+=1\n",
        "\n",
        "saida.close()\n",
        "\n",
        "\n",
        "\n",
        "\n",
        "\n",
        "\n",
        "\n",
        "\n",
        "\n",
        "\n",
        "\n"
      ],
      "execution_count": 18,
      "outputs": [
        {
          "output_type": "stream",
          "text": [
            "{'AA': 105, 'AT': 64, 'AC': 86, 'AG': 111, 'TA': 64, 'TT': 57, 'TC': 60, 'TG': 108, 'CA': 83, 'CT': 75, 'CC': 74, 'CG': 97, 'GA': 113, 'GT': 93, 'GC': 109, 'GG': 147}\n"
          ],
          "name": "stdout"
        }
      ]
    }
  ]
}