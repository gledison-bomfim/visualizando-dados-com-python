{
  "nbformat": 4,
  "nbformat_minor": 0,
  "metadata": {
    "colab": {
      "name": "bioinfomatica",
      "provenance": [],
      "include_colab_link": true
    },
    "kernelspec": {
      "name": "python3",
      "display_name": "Python 3"
    },
    "language_info": {
      "name": "python"
    }
  },
  "cells": [
    {
      "cell_type": "markdown",
      "metadata": {
        "id": "view-in-github",
        "colab_type": "text"
      },
      "source": [
        "<a href=\"https://colab.research.google.com/github/gledison-bomfim/visualizando-dados-com-python/blob/main/bioinfomatica.ipynb\" target=\"_parent\"><img src=\"https://colab.research.google.com/assets/colab-badge.svg\" alt=\"Open In Colab\"/></a>"
      ]
    },
    {
      "cell_type": "markdown",
      "metadata": {
        "id": "iYPZL2kKU-CA"
      },
      "source": [
        "## Estudo de caso: Bioinformática - comparando genomas"
      ]
    },
    {
      "cell_type": "code",
      "metadata": {
        "colab": {
          "base_uri": "https://localhost:8080/"
        },
        "id": "b7ITjeLXUviL",
        "outputId": "386b232b-4846-468e-8114-1e325cb70f7e"
      },
      "source": [
        "from google.colab import drive\n",
        "drive.mount('/content/drive')"
      ],
      "execution_count": 30,
      "outputs": [
        {
          "output_type": "stream",
          "text": [
            "Mounted at /content/drive\n"
          ],
          "name": "stdout"
        }
      ]
    },
    {
      "cell_type": "code",
      "metadata": {
        "id": "utVD1ZdXVDWf"
      },
      "source": [
        "entrada = open(\"/content/drive/MyDrive/bacteria.fasta\").read()\n",
        "saida = open(\"bacteria.html\", \"w\")\n",
        "\n",
        "cont = {}\n",
        "\n",
        "for i in ['A', 'T', 'C', 'G']:\n",
        "  for j in ['A', 'T', 'C', 'G']:\n",
        "    cont[i+j] = 0\n",
        "\n",
        "entrada = entrada.replace(\"\\n\",\"\")\n",
        "\n",
        "for k in range(len(entrada)-1):\n",
        "    cont[entrada[k]+entrada[k+1]] += 1\n",
        "\n",
        "# html\n",
        "\n",
        "i = 1\n",
        "for k in cont:\n",
        "  transparencia = cont[k]/max(cont.values())\n",
        "  saida.write(\"<div style='width:100px; border:1px solid #111; heigth:100px; float:left; backgroud-color:rgba(0,0,255,\"+str(transparencia)+\"')></div>\")\n",
        "\n",
        "saida.close()"
      ],
      "execution_count": 37,
      "outputs": []
    }
  ]
}