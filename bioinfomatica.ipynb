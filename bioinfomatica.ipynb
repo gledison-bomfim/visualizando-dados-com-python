{
  "nbformat": 4,
  "nbformat_minor": 0,
  "metadata": {
    "colab": {
      "name": "bioinfomatica",
      "provenance": [],
      "include_colab_link": true
    },
    "kernelspec": {
      "name": "python3",
      "display_name": "Python 3"
    },
    "language_info": {
      "name": "python"
    }
  },
  "cells": [
    {
      "cell_type": "markdown",
      "metadata": {
        "id": "view-in-github",
        "colab_type": "text"
      },
      "source": [
        "<a href=\"https://colab.research.google.com/github/gledison-bomfim/visualizando-dados-com-python/blob/main/bioinfomatica.ipynb\" target=\"_parent\"><img src=\"https://colab.research.google.com/assets/colab-badge.svg\" alt=\"Open In Colab\"/></a>"
      ]
    },
    {
      "cell_type": "markdown",
      "metadata": {
        "id": "iYPZL2kKU-CA"
      },
      "source": [
        "## Estudo de caso: Bioinformática - comparando genomas"
      ]
    },
    {
      "cell_type": "code",
      "metadata": {
        "colab": {
          "base_uri": "https://localhost:8080/"
        },
        "id": "b7ITjeLXUviL",
        "outputId": "e17586f8-9044-43a6-a4ae-bd8877b9b4e1"
      },
      "source": [
        "from google.colab import drive\n",
        "drive.mount('/content/drive')"
      ],
      "execution_count": 1,
      "outputs": [
        {
          "output_type": "stream",
          "text": [
            "Mounted at /content/drive\n"
          ],
          "name": "stdout"
        }
      ]
    },
    {
      "cell_type": "code",
      "metadata": {
        "id": "utVD1ZdXVDWf",
        "colab": {
          "base_uri": "https://localhost:8080/"
        },
        "outputId": "f7716b09-eb80-47eb-c174-e23c5f26bcf4"
      },
      "source": [
        "entrada = open(\"/content/drive/MyDrive/dados/bacteria.fasta\").read()\n",
        "saida = open(\"bacteria.html\",\"w\")\n",
        "\n",
        "cont = {}\n",
        "\n",
        "for i in ['A', 'T', 'C', 'G']:\n",
        "  for j in ['A', 'T', 'C', 'G']:\n",
        "    cont[i+j] = 0\n",
        "\n",
        "entrada = entrada.replace(\"\\n\",\"\")\n",
        "\n",
        "for k in range(len(entrada)-1):\n",
        "    cont[entrada[k]+entrada[k+1]] += 1\n",
        "\n",
        "# html\n",
        "\n",
        "print(cont)\n",
        "i = 1\n",
        "for k in cont:\n",
        "  transparencia = cont[k]/max(cont.values())\n",
        "  saida.write(\"<div style='width:100px; border:1px solid #111; height:100px; float:left; background-color:rgba(0, 0, 0, \"+str(transparencia)+\"')></div>\")\n",
        "\n",
        "  if i%4 == 0:\n",
        "    saida.write(\"<div style='clear:both'></div>\")\n",
        "  i+=1\n",
        "\n",
        "saida.close()\n",
        "\n",
        "\n"
      ],
      "execution_count": 23,
      "outputs": [
        {
          "output_type": "stream",
          "text": [
            "{'AA': 105, 'AT': 64, 'AC': 86, 'AG': 111, 'TA': 64, 'TT': 57, 'TC': 60, 'TG': 108, 'CA': 83, 'CT': 75, 'CC': 74, 'CG': 97, 'GA': 113, 'GT': 93, 'GC': 109, 'GG': 147}\n"
          ],
          "name": "stdout"
        }
      ]
    },
    {
      "cell_type": "code",
      "metadata": {
        "id": "c7QOBKhaaR2w",
        "outputId": "bdee1590-bac4-45bd-9c9f-849e00b90e5c",
        "colab": {
          "base_uri": "https://localhost:8080/"
        }
      },
      "source": [
        "entrada = open(\"/content/drive/MyDrive/dados/human.fasta\").read()\n",
        "saida = open(\"human.html\",\"w\")\n",
        "\n",
        "cont = {}\n",
        "\n",
        "for i in ['A', 'T', 'C', 'G']:\n",
        "  for j in ['A', 'T', 'C', 'G']:\n",
        "    cont[i+j] = 0\n",
        "\n",
        "entrada = entrada.replace(\"\\n\",\"\")\n",
        "\n",
        "for k in range(len(entrada)-1):\n",
        "    cont[entrada[k]+entrada[k+1]] += 1\n",
        "\n",
        "# html\n",
        "\n",
        "print(cont)\n",
        "i = 1\n",
        "for k in cont:\n",
        "  transparencia = cont[k]/max(cont.values())\n",
        "  saida.write(\"<div style='width:100px; border:1px solid #111; height:100px; float:left; background-color:rgba(0, 0, 0, \"+str(transparencia)+\"')></div>\")\n",
        "\n",
        "  if i%4 == 0:\n",
        "    saida.write(\"<div style='clear:both'></div>\")\n",
        "  i+=1\n",
        "\n",
        "saida.close()"
      ],
      "execution_count": 22,
      "outputs": [
        {
          "output_type": "stream",
          "text": [
            "{'AA': 116, 'AT': 95, 'AC': 97, 'AG': 113, 'TA': 85, 'TT': 113, 'TC': 109, 'TG': 111, 'CA': 87, 'CT': 105, 'CC': 184, 'CG': 170, 'GA': 134, 'GT': 105, 'GC': 155, 'GG': 184}\n"
          ],
          "name": "stdout"
        }
      ]
    }
  ]
}