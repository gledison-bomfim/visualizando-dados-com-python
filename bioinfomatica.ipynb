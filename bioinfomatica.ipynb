{
  "nbformat": 4,
  "nbformat_minor": 0,
  "metadata": {
    "colab": {
      "name": "bioinfomatica",
      "provenance": [],
      "include_colab_link": true
    },
    "kernelspec": {
      "name": "python3",
      "display_name": "Python 3"
    },
    "language_info": {
      "name": "python"
    }
  },
  "cells": [
    {
      "cell_type": "markdown",
      "metadata": {
        "id": "view-in-github",
        "colab_type": "text"
      },
      "source": [
        "<a href=\"https://colab.research.google.com/github/gledison-bomfim/visualizando-dados-com-python/blob/main/bioinfomatica.ipynb\" target=\"_parent\"><img src=\"https://colab.research.google.com/assets/colab-badge.svg\" alt=\"Open In Colab\"/></a>"
      ]
    },
    {
      "cell_type": "markdown",
      "metadata": {
        "id": "iYPZL2kKU-CA"
      },
      "source": [
        "## Estudo de caso: Bioinformática - comparando genomas"
      ]
    },
    {
      "cell_type": "code",
      "metadata": {
        "colab": {
          "base_uri": "https://localhost:8080/"
        },
        "id": "b7ITjeLXUviL",
        "outputId": "386b232b-4846-468e-8114-1e325cb70f7e"
      },
      "source": [
        "from google.colab import drive\n",
        "drive.mount('/content/drive')"
      ],
      "execution_count": 30,
      "outputs": [
        {
          "output_type": "stream",
          "text": [
            "Mounted at /content/drive\n"
          ],
          "name": "stdout"
        }
      ]
    },
    {
      "cell_type": "code",
      "metadata": {
        "colab": {
          "base_uri": "https://localhost:8080/"
        },
        "id": "utVD1ZdXVDWf",
        "outputId": "c9b53fe5-bc9a-4dc4-e2b0-fe88ffcf1cfe"
      },
      "source": [
        "entrada = open(\"/content/drive/MyDrive/bacteria.fasta\").read()\n",
        "saida = open(\"bacteria.html\", \"w\")\n",
        "\n",
        "cont = {}\n",
        "\n",
        "for i in ['A', 'T', 'C', 'G']:\n",
        "  for j in ['A', 'T', 'C', 'G']:\n",
        "    cont[i+j] = 0\n",
        "\n",
        "entrada = entrada.replace(\"\\n\",\"\")\n",
        "\n",
        "for k in range(len(entrada)-1):\n",
        "    cont[entrada[k]+entrada[k+1]] += 1\n",
        "\n",
        "print(cont)"
      ],
      "execution_count": 31,
      "outputs": [
        {
          "output_type": "stream",
          "text": [
            "{'AA': 105, 'AT': 64, 'AC': 86, 'AG': 111, 'TA': 64, 'TT': 57, 'TC': 60, 'TG': 108, 'CA': 83, 'CT': 75, 'CC': 74, 'CG': 97, 'GA': 113, 'GT': 93, 'GC': 109, 'GG': 147}\n"
          ],
          "name": "stdout"
        }
      ]
    }
  ]
}